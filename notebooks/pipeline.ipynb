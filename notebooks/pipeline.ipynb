{
 "cells": [
  {
   "cell_type": "code",
   "execution_count": 1,
   "metadata": {},
   "outputs": [],
   "source": [
    "import os\n",
    "import numpy as np\n",
    "import pandas as pd\n",
    "import matplotlib.pyplot as plt\n",
    "import cv2\n",
    "from sklearn.model_selection import train_test_split\n",
    "from sklearn.metrics import accuracy_score, classification_report\n",
    "from sklearn.ensemble import RandomForestClassifier\n",
    "from sklearn.linear_model import LogisticRegression\n",
    "from tqdm import tqdm\n",
    "import joblib\n",
    "import glob\n",
    "import tensorflow as tf\n",
    "from tensorflow.keras.models import Sequential\n",
    "from tensorflow.keras.layers import Conv2D, MaxPooling2D, Flatten, Dense, Dropout\n",
    "from tensorflow.keras.optimizers import Adam\n",
    "from tensorflow.keras.preprocessing.image import ImageDataGenerator\n",
    "from tensorflow.keras.utils import to_categorical\n",
    "\n",
    "\n",
    "IMG_HEIGHT = 128\n",
    "IMG_WIDTH = 128\n",
    "RAW_DIR = \"../data/raw\"\n",
    "PROCESSED_DIR = \"../data/processed\"\n",
    "AUGMENTED_DIR = \"../data/augmented\"\n",
    "MODEL_DIR = \"../models\"\n",
    "NUM_CLASSES = 2  # healthy / diseased\n",
    "\n",
    "os.makedirs(PROCESSED_DIR, exist_ok=True)\n",
    "os.makedirs(AUGMENTED_DIR, exist_ok=True)\n",
    "os.makedirs(MODEL_DIR, exist_ok=True)\n"
   ]
  },
  {
   "cell_type": "code",
   "execution_count": 2,
   "metadata": {},
   "outputs": [
    {
     "name": "stdout",
     "output_type": "stream",
     "text": [
      " Исходные данные: (1821, 5)\n"
     ]
    }
   ],
   "source": [
    "df = pd.read_csv(os.path.join(RAW_DIR, \"train.csv\"))\n",
    "print(\" Исходные данные:\", df.shape)\n",
    "df.head()\n",
    "\n",
    "df[\"label\"] = df.apply(lambda row: 0 if row[\"healthy\"] == 1 else 1, axis=1)\n",
    "df = df[[\"image_id\", \"label\"]]"
   ]
  },
  {
   "cell_type": "code",
   "execution_count": 3,
   "metadata": {},
   "outputs": [
    {
     "name": "stderr",
     "output_type": "stream",
     "text": [
      "100%|██████████| 1821/1821 [00:21<00:00, 86.45it/s]\n"
     ]
    },
    {
     "name": "stdout",
     "output_type": "stream",
     "text": [
      "Загружено изображений (flatten): (1821, 49152)\n",
      "Загружено изображений (CNN): (1821, 128, 128, 3)\n"
     ]
    }
   ],
   "source": [
    "def load_images(df, folder, size=(128, 128)):\n",
    "    images_flat = []\n",
    "    images_cnn = []\n",
    "    labels = []\n",
    "    for _, row in tqdm(df.iterrows(), total=len(df)):\n",
    "        img_path = os.path.join(folder, row[\"image_id\"] + \".jpg\")\n",
    "        if not os.path.exists(img_path):\n",
    "            continue\n",
    "        img = cv2.imread(img_path)\n",
    "        img = cv2.resize(img, size)\n",
    "        img_rgb = cv2.cvtColor(img, cv2.COLOR_BGR2RGB)\n",
    "        \n",
    "        images_flat.append(img_rgb.flatten())\n",
    "\n",
    "        images_cnn.append(img_rgb)\n",
    "        \n",
    "        labels.append(row[\"label\"])\n",
    "        \n",
    "    return (np.array(images_flat), \n",
    "            np.array(images_cnn, dtype=np.float32) / 255.0,  # нормализация для CNN\n",
    "            np.array(labels))\n",
    "\n",
    "X_flat, X_cnn, y = load_images(df, os.path.join(RAW_DIR, \"images\"))\\\n",
    "\n",
    "print(\"Загружено изображений (flatten):\", X_flat.shape)\n",
    "print(\"Загружено изображений (CNN):\", X_cnn.shape)\n"
   ]
  },
  {
   "cell_type": "code",
   "execution_count": 4,
   "metadata": {},
   "outputs": [],
   "source": [
    "y_cnn = to_categorical(y, NUM_CLASSES)"
   ]
  },
  {
   "cell_type": "code",
   "execution_count": 5,
   "metadata": {},
   "outputs": [],
   "source": [
    "X_train, X_test, y_train, y_test = train_test_split(X_flat, y, test_size=0.2, random_state=42)\n",
    "X_train_cnn, X_test_cnn, y_train_cnn, y_test_cnn = train_test_split(X_cnn, y_cnn, test_size=0.2, random_state=42)\n",
    "\n"
   ]
  },
  {
   "cell_type": "code",
   "execution_count": 6,
   "metadata": {},
   "outputs": [],
   "source": [
    "np.save(os.path.join(PROCESSED_DIR, \"X_flat.npy\"), X_train)\n",
    "np.save(os.path.join(PROCESSED_DIR, \"X_test_flat.npy\"), X_test)\n",
    "np.save(os.path.join(PROCESSED_DIR, \"X_cnn.npy\"), X_train_cnn)\n",
    "np.save(os.path.join(PROCESSED_DIR, \"X_test_cnn.npy\"), X_test_cnn)\n",
    "np.save(os.path.join(PROCESSED_DIR, \"y.npy\"), y_train)\n",
    "np.save(os.path.join(PROCESSED_DIR, \"y_test.npy\"), y_test)\n",
    "np.save(os.path.join(PROCESSED_DIR, \"y_cnn.npy\"), y_train_cnn)\n",
    "np.save(os.path.join(PROCESSED_DIR, \"y_test_cnn.npy\"), y_test_cnn)\n"
   ]
  },
  {
   "cell_type": "code",
   "execution_count": 7,
   "metadata": {},
   "outputs": [],
   "source": [
    "def create_cnn_model(input_shape, num_classes):\n",
    "    model = Sequential([\n",
    "        Conv2D(32, (3,3), activation='relu', input_shape=input_shape),\n",
    "        MaxPooling2D(2,2),\n",
    "        Conv2D(64, (3,3), activation='relu'),\n",
    "        MaxPooling2D(2,2),\n",
    "        Flatten(),\n",
    "        Dense(128, activation='relu'),\n",
    "        Dropout(0.5),\n",
    "        Dense(num_classes, activation='softmax')\n",
    "    ])\n",
    "    model.compile(\n",
    "        optimizer=Adam(learning_rate=0.001),\n",
    "        loss='categorical_crossentropy',\n",
    "        metrics=['accuracy']\n",
    "    )\n",
    "    return model"
   ]
  },
  {
   "cell_type": "code",
   "execution_count": 8,
   "metadata": {},
   "outputs": [],
   "source": [
    "models = {\n",
    "    \"RandomForest\": RandomForestClassifier(n_estimators=100, random_state=42),\n",
    "    \"LogisticRegression\": LogisticRegression(max_iter=200),\n",
    "    \"CNN\": \"custom\"\n",
    "}\n",
    "\n",
    "\n",
    "results = {}"
   ]
  },
  {
   "cell_type": "code",
   "execution_count": 9,
   "metadata": {},
   "outputs": [
    {
     "name": "stdout",
     "output_type": "stream",
     "text": [
      "\n",
      "Обучение модели: RandomForest\n",
      "Accuracy RandomForest: 0.7616\n",
      "\n",
      "Обучение модели: LogisticRegression\n",
      "Accuracy LogisticRegression: 0.6603\n",
      "\n",
      "Обучение модели: CNN\n",
      "Создание и обучение CNN...\n"
     ]
    },
    {
     "name": "stderr",
     "output_type": "stream",
     "text": [
      "c:\\Users\\sb170\\Desktop\\основы программирования\\7 семестр\\методы анализа данных\\работа 3\\.venv\\lib\\site-packages\\keras\\src\\layers\\convolutional\\base_conv.py:113: UserWarning: Do not pass an `input_shape`/`input_dim` argument to a layer. When using Sequential models, prefer using an `Input(shape)` object as the first layer in the model instead.\n",
      "  super().__init__(activity_regularizer=activity_regularizer, **kwargs)\n"
     ]
    },
    {
     "name": "stdout",
     "output_type": "stream",
     "text": [
      "Epoch 1/10\n",
      "\u001b[1m46/46\u001b[0m \u001b[32m━━━━━━━━━━━━━━━━━━━━\u001b[0m\u001b[37m\u001b[0m \u001b[1m6s\u001b[0m 103ms/step - accuracy: 0.6923 - loss: 0.7455 - val_accuracy: 0.7260 - val_loss: 0.5638\n",
      "Epoch 2/10\n",
      "\u001b[1m46/46\u001b[0m \u001b[32m━━━━━━━━━━━━━━━━━━━━\u001b[0m\u001b[37m\u001b[0m \u001b[1m5s\u001b[0m 98ms/step - accuracy: 0.7163 - loss: 0.5785 - val_accuracy: 0.7342 - val_loss: 0.5392\n",
      "Epoch 3/10\n",
      "\u001b[1m46/46\u001b[0m \u001b[32m━━━━━━━━━━━━━━━━━━━━\u001b[0m\u001b[37m\u001b[0m \u001b[1m5s\u001b[0m 98ms/step - accuracy: 0.7198 - loss: 0.5759 - val_accuracy: 0.7288 - val_loss: 0.5362\n",
      "Epoch 4/10\n",
      "\u001b[1m46/46\u001b[0m \u001b[32m━━━━━━━━━━━━━━━━━━━━\u001b[0m\u001b[37m\u001b[0m \u001b[1m5s\u001b[0m 100ms/step - accuracy: 0.7218 - loss: 0.5563 - val_accuracy: 0.7452 - val_loss: 0.5076\n",
      "Epoch 5/10\n",
      "\u001b[1m46/46\u001b[0m \u001b[32m━━━━━━━━━━━━━━━━━━━━\u001b[0m\u001b[37m\u001b[0m \u001b[1m5s\u001b[0m 104ms/step - accuracy: 0.7672 - loss: 0.5031 - val_accuracy: 0.7589 - val_loss: 0.5082\n",
      "Epoch 6/10\n",
      "\u001b[1m46/46\u001b[0m \u001b[32m━━━━━━━━━━━━━━━━━━━━\u001b[0m\u001b[37m\u001b[0m \u001b[1m4s\u001b[0m 96ms/step - accuracy: 0.7940 - loss: 0.4542 - val_accuracy: 0.7671 - val_loss: 0.5113\n",
      "Epoch 7/10\n",
      "\u001b[1m46/46\u001b[0m \u001b[32m━━━━━━━━━━━━━━━━━━━━\u001b[0m\u001b[37m\u001b[0m \u001b[1m4s\u001b[0m 93ms/step - accuracy: 0.8098 - loss: 0.3933 - val_accuracy: 0.7589 - val_loss: 0.5204\n",
      "Epoch 8/10\n",
      "\u001b[1m46/46\u001b[0m \u001b[32m━━━━━━━━━━━━━━━━━━━━\u001b[0m\u001b[37m\u001b[0m \u001b[1m4s\u001b[0m 93ms/step - accuracy: 0.8613 - loss: 0.3234 - val_accuracy: 0.7699 - val_loss: 0.6015\n",
      "Epoch 9/10\n",
      "\u001b[1m46/46\u001b[0m \u001b[32m━━━━━━━━━━━━━━━━━━━━\u001b[0m\u001b[37m\u001b[0m \u001b[1m4s\u001b[0m 95ms/step - accuracy: 0.8771 - loss: 0.2834 - val_accuracy: 0.6986 - val_loss: 0.6305\n",
      "Epoch 10/10\n",
      "\u001b[1m46/46\u001b[0m \u001b[32m━━━━━━━━━━━━━━━━━━━━\u001b[0m\u001b[37m\u001b[0m \u001b[1m5s\u001b[0m 98ms/step - accuracy: 0.9045 - loss: 0.2324 - val_accuracy: 0.7288 - val_loss: 0.7379\n"
     ]
    },
    {
     "name": "stderr",
     "output_type": "stream",
     "text": [
      "WARNING:absl:You are saving your model as an HDF5 file via `model.save()` or `keras.saving.save_model(model)`. This file format is considered legacy. We recommend using instead the native Keras format, e.g. `model.save('my_model.keras')` or `keras.saving.save_model(model, 'my_model.keras')`. \n"
     ]
    },
    {
     "name": "stdout",
     "output_type": "stream",
     "text": [
      "Accuracy CNN: 0.7288\n"
     ]
    }
   ],
   "source": [
    "X_train = np.load(os.path.join(PROCESSED_DIR, \"X_flat.npy\"))\n",
    "X_test = np.load(os.path.join(PROCESSED_DIR, \"X_test_flat.npy\"))\n",
    "X_train_cnn = np.load(os.path.join(PROCESSED_DIR, \"X_cnn.npy\"))\n",
    "X_test_cnn = np.load(os.path.join(PROCESSED_DIR, \"X_test_cnn.npy\"))\n",
    "y_train = np.load(os.path.join(PROCESSED_DIR, \"y.npy\"))\n",
    "y_test = np.load(os.path.join(PROCESSED_DIR, \"y_test.npy\"))\n",
    "y_train_cnn = np.load(os.path.join(PROCESSED_DIR, \"y_cnn.npy\"))\n",
    "y_test_cnn = np.load(os.path.join(PROCESSED_DIR, \"y_test_cnn.npy\"))\n",
    "\n",
    "os.makedirs(MODEL_DIR, exist_ok=True)\n",
    "\n",
    "results = {}\n",
    "\n",
    "for name, model in models.items():\n",
    "    print(f\"\\nОбучение модели: {name}\")\n",
    "\n",
    "    if name != \"CNN\":\n",
    "        model.fit(X_train, y_train)\n",
    "        preds = model.predict(X_test)\n",
    "        acc = accuracy_score(y_test, preds)\n",
    "        results[name] = acc\n",
    "        print(f\"Accuracy {name}: {acc:.4f}\")\n",
    "        joblib.dump(model, os.path.join(MODEL_DIR, f\"{name}.joblib\"))\n",
    "\n",
    "    else:\n",
    "        print(\"Создание и обучение CNN...\")\n",
    "        cnn_model = create_cnn_model(\n",
    "            input_shape=(IMG_HEIGHT, IMG_WIDTH, 3),\n",
    "            num_classes=NUM_CLASSES\n",
    "        )\n",
    "\n",
    "        history = cnn_model.fit(\n",
    "            X_train_cnn, y_train_cnn,\n",
    "            validation_data=(X_test_cnn, y_test_cnn),\n",
    "            epochs=10,\n",
    "            batch_size=32,\n",
    "            verbose=1\n",
    "        )\n",
    "\n",
    "        loss, acc = cnn_model.evaluate(X_test_cnn, y_test_cnn, verbose=0)\n",
    "        results[\"CNN\"] = acc\n",
    "        print(f\"Accuracy CNN: {acc:.4f}\")\n",
    "\n",
    "        cnn_model.save(os.path.join(MODEL_DIR, \"CNN.h5\"))\n"
   ]
  },
  {
   "cell_type": "code",
   "execution_count": 10,
   "metadata": {},
   "outputs": [
    {
     "data": {
      "text/html": [
       "<div>\n",
       "<style scoped>\n",
       "    .dataframe tbody tr th:only-of-type {\n",
       "        vertical-align: middle;\n",
       "    }\n",
       "\n",
       "    .dataframe tbody tr th {\n",
       "        vertical-align: top;\n",
       "    }\n",
       "\n",
       "    .dataframe thead th {\n",
       "        text-align: right;\n",
       "    }\n",
       "</style>\n",
       "<table border=\"1\" class=\"dataframe\">\n",
       "  <thead>\n",
       "    <tr style=\"text-align: right;\">\n",
       "      <th></th>\n",
       "      <th>Model</th>\n",
       "      <th>Accuracy</th>\n",
       "    </tr>\n",
       "  </thead>\n",
       "  <tbody>\n",
       "    <tr>\n",
       "      <th>0</th>\n",
       "      <td>RandomForest</td>\n",
       "      <td>0.761644</td>\n",
       "    </tr>\n",
       "    <tr>\n",
       "      <th>1</th>\n",
       "      <td>LogisticRegression</td>\n",
       "      <td>0.660274</td>\n",
       "    </tr>\n",
       "    <tr>\n",
       "      <th>2</th>\n",
       "      <td>CNN</td>\n",
       "      <td>0.728767</td>\n",
       "    </tr>\n",
       "  </tbody>\n",
       "</table>\n",
       "</div>"
      ],
      "text/plain": [
       "                Model  Accuracy\n",
       "0        RandomForest  0.761644\n",
       "1  LogisticRegression  0.660274\n",
       "2                 CNN  0.728767"
      ]
     },
     "execution_count": 10,
     "metadata": {},
     "output_type": "execute_result"
    }
   ],
   "source": [
    "metrics = pd.DataFrame(list(results.items()), columns=[\"Model\", \"Accuracy\"])\n",
    "metrics.to_csv(\"metrics.csv\", index=False)\n",
    "metrics"
   ]
  },
  {
   "cell_type": "code",
   "execution_count": 11,
   "metadata": {},
   "outputs": [],
   "source": [
    "aug_gen = ImageDataGenerator(\n",
    "    rotation_range=25,\n",
    "    width_shift_range=0.1,\n",
    "    height_shift_range=0.1,\n",
    "    zoom_range=0.1,\n",
    "    horizontal_flip=True,\n",
    "    fill_mode=\"nearest\"\n",
    ")"
   ]
  },
  {
   "cell_type": "code",
   "execution_count": 12,
   "metadata": {},
   "outputs": [],
   "source": [
    "\n",
    "img_folder = os.path.join(RAW_DIR, \"images\")\n",
    "save_folder = os.path.join(AUGMENTED_DIR, \"images\")\n",
    "os.makedirs(save_folder, exist_ok=True)\n",
    "\n",
    "aug_images = []\n",
    "aug_labels = []"
   ]
  },
  {
   "cell_type": "code",
   "execution_count": 13,
   "metadata": {},
   "outputs": [
    {
     "name": "stderr",
     "output_type": "stream",
     "text": [
      "100%|██████████| 1821/1821 [00:42<00:00, 42.75it/s]\n"
     ]
    },
    {
     "name": "stdout",
     "output_type": "stream",
     "text": [
      "Всего аугментированных изображений: 3642\n",
      "Аугментированные данные сохранены в: ../data/augmented\n"
     ]
    }
   ],
   "source": [
    "for idx, row in tqdm(df.iterrows(), total=len(df)):\n",
    "    img_path = os.path.join(img_folder, row[\"image_id\"] + \".jpg\")\n",
    "    if not os.path.exists(img_path):\n",
    "        continue\n",
    "    img = cv2.imread(img_path)\n",
    "    img = cv2.resize(img, (IMG_HEIGHT, IMG_WIDTH))\n",
    "    img = img.reshape((1,) + img.shape)\n",
    "    \n",
    "    count = 0\n",
    "    for batch in aug_gen.flow(img, batch_size=1, save_to_dir=save_folder,\n",
    "                              save_prefix=row[\"image_id\"], save_format='jpg'):\n",
    "        aug_images.append(batch[0].astype(np.float32)/255.0)  # для CNN\n",
    "        aug_labels.append(row[\"label\"])\n",
    "        count += 1\n",
    "        if count >= 2:\n",
    "            break\n",
    "\n",
    "print(\"Всего аугментированных изображений:\", len(aug_images))\n",
    "\n",
    "np.save(os.path.join(AUGMENTED_DIR, \"X_aug_cnn.npy\"), np.array(aug_images))\n",
    "np.save(os.path.join(AUGMENTED_DIR, \"y_aug_cnn.npy\"), np.array(aug_labels))\n",
    "print(\"Аугментированные данные сохранены в:\", AUGMENTED_DIR)\n"
   ]
  },
  {
   "cell_type": "code",
   "execution_count": 14,
   "metadata": {},
   "outputs": [],
   "source": [
    "from sklearn.preprocessing import StandardScaler\n",
    "X_aug_flat = np.array([img.flatten() for img in aug_images])\n",
    "y_aug_flat = np.array(aug_labels)\n",
    "\n",
    "X_all_flat = np.concatenate([X_flat, X_aug_flat])\n",
    "y_all_flat = np.concatenate([y, y_aug_flat])\n",
    "\n",
    "X_train2_flat, X_test2_flat, y_train2_flat, y_test2_flat = train_test_split(\n",
    "    X_all_flat, y_all_flat, test_size=0.2, random_state=42\n",
    ")\n",
    "scaler = StandardScaler()\n",
    "X_train2_flat_scaled = scaler.fit_transform(X_train2_flat)\n",
    "X_test2_flat_scaled = scaler.transform(X_test2_flat)\n",
    "X_aug_cnn = np.array(aug_images)\n",
    "y_aug_cnn = tf.keras.utils.to_categorical(aug_labels, num_classes=NUM_CLASSES)\n",
    "\n",
    "X_train2_cnn = np.concatenate([X_train_cnn, X_aug_cnn])\n",
    "y_train2_cnn = np.concatenate([y_train_cnn, y_aug_cnn])\n",
    "\n",
    "X_test2_cnn = X_test_cnn\n",
    "y_test2_cnn = y_test_cnn"
   ]
  },
  {
   "cell_type": "code",
   "execution_count": 15,
   "metadata": {},
   "outputs": [
    {
     "name": "stdout",
     "output_type": "stream",
     "text": [
      "\n",
      "Обучение модели (аугм. данные): RandomForest\n",
      "Accuracy RandomForest (aug): 0.7566\n",
      "\n",
      "Обучение модели (аугм. данные): LogisticRegression\n"
     ]
    },
    {
     "name": "stderr",
     "output_type": "stream",
     "text": [
      "c:\\Users\\sb170\\Desktop\\основы программирования\\7 семестр\\методы анализа данных\\работа 3\\.venv\\lib\\site-packages\\sklearn\\linear_model\\_logistic.py:473: ConvergenceWarning: lbfgs failed to converge after 200 iteration(s) (status=1):\n",
      "STOP: TOTAL NO. OF ITERATIONS REACHED LIMIT\n",
      "\n",
      "Increase the number of iterations to improve the convergence (max_iter=200).\n",
      "You might also want to scale the data as shown in:\n",
      "    https://scikit-learn.org/stable/modules/preprocessing.html\n",
      "Please also refer to the documentation for alternative solver options:\n",
      "    https://scikit-learn.org/stable/modules/linear_model.html#logistic-regression\n",
      "  n_iter_i = _check_optimize_result(\n"
     ]
    },
    {
     "name": "stdout",
     "output_type": "stream",
     "text": [
      "Accuracy LogisticRegression (aug): 0.6944\n",
      "\n",
      "Обучение модели (аугм. данные): CNN\n"
     ]
    },
    {
     "name": "stderr",
     "output_type": "stream",
     "text": [
      "c:\\Users\\sb170\\Desktop\\основы программирования\\7 семестр\\методы анализа данных\\работа 3\\.venv\\lib\\site-packages\\keras\\src\\layers\\convolutional\\base_conv.py:113: UserWarning: Do not pass an `input_shape`/`input_dim` argument to a layer. When using Sequential models, prefer using an `Input(shape)` object as the first layer in the model instead.\n",
      "  super().__init__(activity_regularizer=activity_regularizer, **kwargs)\n"
     ]
    },
    {
     "name": "stdout",
     "output_type": "stream",
     "text": [
      "Epoch 1/10\n",
      "\u001b[1m160/160\u001b[0m \u001b[32m━━━━━━━━━━━━━━━━━━━━\u001b[0m\u001b[37m\u001b[0m \u001b[1m19s\u001b[0m 110ms/step - accuracy: 0.7093 - loss: 0.6622 - val_accuracy: 0.7260 - val_loss: 0.5875\n",
      "Epoch 2/10\n",
      "\u001b[1m160/160\u001b[0m \u001b[32m━━━━━━━━━━━━━━━━━━━━\u001b[0m\u001b[37m\u001b[0m \u001b[1m17s\u001b[0m 104ms/step - accuracy: 0.7156 - loss: 0.5901 - val_accuracy: 0.7260 - val_loss: 0.5983\n",
      "Epoch 3/10\n",
      "\u001b[1m160/160\u001b[0m \u001b[32m━━━━━━━━━━━━━━━━━━━━\u001b[0m\u001b[37m\u001b[0m \u001b[1m19s\u001b[0m 117ms/step - accuracy: 0.7169 - loss: 0.5822 - val_accuracy: 0.7342 - val_loss: 0.5180\n",
      "Epoch 4/10\n",
      "\u001b[1m160/160\u001b[0m \u001b[32m━━━━━━━━━━━━━━━━━━━━\u001b[0m\u001b[37m\u001b[0m \u001b[1m21s\u001b[0m 131ms/step - accuracy: 0.7311 - loss: 0.5470 - val_accuracy: 0.7288 - val_loss: 0.5329\n",
      "Epoch 5/10\n",
      "\u001b[1m160/160\u001b[0m \u001b[32m━━━━━━━━━━━━━━━━━━━━\u001b[0m\u001b[37m\u001b[0m \u001b[1m21s\u001b[0m 132ms/step - accuracy: 0.7464 - loss: 0.5180 - val_accuracy: 0.7479 - val_loss: 0.5059\n",
      "Epoch 6/10\n",
      "\u001b[1m160/160\u001b[0m \u001b[32m━━━━━━━━━━━━━━━━━━━━\u001b[0m\u001b[37m\u001b[0m \u001b[1m21s\u001b[0m 134ms/step - accuracy: 0.7715 - loss: 0.4733 - val_accuracy: 0.6740 - val_loss: 0.6076\n",
      "Epoch 7/10\n",
      "\u001b[1m160/160\u001b[0m \u001b[32m━━━━━━━━━━━━━━━━━━━━\u001b[0m\u001b[37m\u001b[0m \u001b[1m22s\u001b[0m 135ms/step - accuracy: 0.8040 - loss: 0.4238 - val_accuracy: 0.7479 - val_loss: 0.5376\n",
      "Epoch 8/10\n",
      "\u001b[1m160/160\u001b[0m \u001b[32m━━━━━━━━━━━━━━━━━━━━\u001b[0m\u001b[37m\u001b[0m \u001b[1m21s\u001b[0m 131ms/step - accuracy: 0.8368 - loss: 0.3562 - val_accuracy: 0.7342 - val_loss: 0.6103\n",
      "Epoch 9/10\n",
      "\u001b[1m160/160\u001b[0m \u001b[32m━━━━━━━━━━━━━━━━━━━━\u001b[0m\u001b[37m\u001b[0m \u001b[1m21s\u001b[0m 129ms/step - accuracy: 0.8764 - loss: 0.2809 - val_accuracy: 0.7726 - val_loss: 0.6216\n",
      "Epoch 10/10\n",
      "\u001b[1m160/160\u001b[0m \u001b[32m━━━━━━━━━━━━━━━━━━━━\u001b[0m\u001b[37m\u001b[0m \u001b[1m21s\u001b[0m 131ms/step - accuracy: 0.9017 - loss: 0.2332 - val_accuracy: 0.6904 - val_loss: 0.7143\n"
     ]
    },
    {
     "name": "stderr",
     "output_type": "stream",
     "text": [
      "WARNING:absl:You are saving your model as an HDF5 file via `model.save()` or `keras.saving.save_model(model)`. This file format is considered legacy. We recommend using instead the native Keras format, e.g. `model.save('my_model.keras')` or `keras.saving.save_model(model, 'my_model.keras')`. \n"
     ]
    },
    {
     "name": "stdout",
     "output_type": "stream",
     "text": [
      "Accuracy CNN (aug): 0.6904\n"
     ]
    }
   ],
   "source": [
    "results_aug = {}\n",
    "\n",
    "for name, model in models.items():\n",
    "    print(f\"\\nОбучение модели (аугм. данные): {name}\")\n",
    "    \n",
    "    if name != \"CNN\":\n",
    "        model.fit(X_train2_flat, y_train2_flat)\n",
    "        preds = model.predict(X_test2_flat)\n",
    "        acc = accuracy_score(y_test2_flat, preds)\n",
    "        results_aug[name] = acc\n",
    "    else:\n",
    "        cnn_model = create_cnn_model((IMG_HEIGHT, IMG_WIDTH, 3), num_classes=NUM_CLASSES)\n",
    "        cnn_model.fit(\n",
    "            X_train2_cnn, y_train2_cnn,\n",
    "            validation_data=(X_test2_cnn, y_test2_cnn),\n",
    "            epochs=10,\n",
    "            batch_size=32,\n",
    "            verbose=1\n",
    "        )\n",
    "        loss, acc = cnn_model.evaluate(X_test2_cnn, y_test2_cnn, verbose=0)\n",
    "        results_aug[\"CNN\"] = acc\n",
    "        cnn_model.save(os.path.join(MODEL_DIR, \"CNN_aug.h5\"))\n",
    "    \n",
    "    print(f\"Accuracy {name} (aug): {results_aug[name]:.4f}\")"
   ]
  },
  {
   "cell_type": "code",
   "execution_count": 16,
   "metadata": {},
   "outputs": [
    {
     "name": "stdout",
     "output_type": "stream",
     "text": [
      "\n",
      "Сравнение точностей:\n"
     ]
    },
    {
     "data": {
      "text/html": [
       "<div>\n",
       "<style scoped>\n",
       "    .dataframe tbody tr th:only-of-type {\n",
       "        vertical-align: middle;\n",
       "    }\n",
       "\n",
       "    .dataframe tbody tr th {\n",
       "        vertical-align: top;\n",
       "    }\n",
       "\n",
       "    .dataframe thead th {\n",
       "        text-align: right;\n",
       "    }\n",
       "</style>\n",
       "<table border=\"1\" class=\"dataframe\">\n",
       "  <thead>\n",
       "    <tr style=\"text-align: right;\">\n",
       "      <th></th>\n",
       "      <th>Model</th>\n",
       "      <th>Accuracy</th>\n",
       "      <th>Accuracy (Augmented)</th>\n",
       "    </tr>\n",
       "  </thead>\n",
       "  <tbody>\n",
       "    <tr>\n",
       "      <th>0</th>\n",
       "      <td>RandomForest</td>\n",
       "      <td>0.761644</td>\n",
       "      <td>0.756633</td>\n",
       "    </tr>\n",
       "    <tr>\n",
       "      <th>1</th>\n",
       "      <td>LogisticRegression</td>\n",
       "      <td>0.660274</td>\n",
       "      <td>0.694419</td>\n",
       "    </tr>\n",
       "    <tr>\n",
       "      <th>2</th>\n",
       "      <td>CNN</td>\n",
       "      <td>0.728767</td>\n",
       "      <td>0.690411</td>\n",
       "    </tr>\n",
       "  </tbody>\n",
       "</table>\n",
       "</div>"
      ],
      "text/plain": [
       "                Model  Accuracy  Accuracy (Augmented)\n",
       "0        RandomForest  0.761644              0.756633\n",
       "1  LogisticRegression  0.660274              0.694419\n",
       "2                 CNN  0.728767              0.690411"
      ]
     },
     "metadata": {},
     "output_type": "display_data"
    },
    {
     "data": {
      "image/png": "[encoded data removed]",
      "text/plain": [
       "<Figure size 800x400 with 1 Axes>"
      ]
     },
     "metadata": {},
     "output_type": "display_data"
    }
   ],
   "source": [
    "metrics_aug = pd.DataFrame(list(results_aug.items()), columns=[\"Model\", \"Accuracy (Augmented)\"])\n",
    "metrics_aug.to_csv(\"metrics_aug.csv\", index=False)\n",
    "\n",
    "merged = pd.merge(metrics, metrics_aug, on=\"Model\")\n",
    "print(\"\\nСравнение точностей:\")\n",
    "display(merged)\n",
    "\n",
    "merged.plot(x=\"Model\", y=[\"Accuracy\", \"Accuracy (Augmented)\"], kind=\"bar\",\n",
    "            figsize=(8,4), title=\"Сравнение моделей\")\n",
    "plt.show()"
   ]
  }
 ],
 "metadata": {
  "anaconda-cloud": {},
  "kernelspec": {
   "display_name": ".venv",
   "language": "python",
   "name": "python3"
  },
  "language_info": {
   "codemirror_mode": {
    "name": "ipython",
    "version": 3
   },
   "file_extension": ".py",
   "mimetype": "text/x-python",
   "name": "python",
   "nbconvert_exporter": "python",
   "pygments_lexer": "ipython3",
   "version": "3.10.0"
  },
  "name": "seminar02_practice_pandas_titanic.ipynb"
 },
 "nbformat": 4,
 "nbformat_minor": 4
}
